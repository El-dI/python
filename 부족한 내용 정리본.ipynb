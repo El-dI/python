{
 "cells": [
  {
   "cell_type": "markdown",
   "metadata": {},
   "source": [
    "# 참고 노트"
   ]
  },
  {
   "cell_type": "code",
   "execution_count": 1,
   "metadata": {},
   "outputs": [
    {
     "data": {
      "text/plain": [
       "[[4, 5, 6], [4, 5, 6], [4, 5, 6]]"
      ]
     },
     "execution_count": 1,
     "metadata": {},
     "output_type": "execute_result"
    }
   ],
   "source": [
    "A=[]\n",
    "B=[4,5,6]\n",
    "A.append(B)\n",
    "A.append(B)\n",
    "A.append(B)\n",
    "A"
   ]
  },
  {
   "cell_type": "markdown",
   "metadata": {},
   "source": [
    "리스트이름.append(x)\n",
    "x를 리스트에 추가한다."
   ]
  },
  {
   "cell_type": "code",
   "execution_count": 2,
   "metadata": {},
   "outputs": [
    {
     "data": {
      "text/plain": [
       "6"
      ]
     },
     "execution_count": 2,
     "metadata": {},
     "output_type": "execute_result"
    }
   ],
   "source": [
    "# 행렬을 다룰 수 있다.\n",
    "# A가 행렬이 되어\n",
    "# 다음과 같이 행과 열을 찾을 수 있게 된다. *****\n",
    "A[1][2]"
   ]
  },
  {
   "cell_type": "code",
   "execution_count": 3,
   "metadata": {},
   "outputs": [
    {
     "data": {
      "text/plain": [
       "[4, 5, 6]"
      ]
     },
     "execution_count": 3,
     "metadata": {},
     "output_type": "execute_result"
    }
   ],
   "source": [
    "A[1]\n",
    "# 위는 첫번째 행이 되겠다."
   ]
  },
  {
   "cell_type": "code",
   "execution_count": null,
   "metadata": {},
   "outputs": [],
   "source": []
  },
  {
   "cell_type": "markdown",
   "metadata": {},
   "source": [
    "Numpy array"
   ]
  },
  {
   "cell_type": "code",
   "execution_count": 4,
   "metadata": {},
   "outputs": [],
   "source": [
    "import numpy as np\n",
    "import math as m \n",
    "import random"
   ]
  },
  {
   "cell_type": "code",
   "execution_count": 5,
   "metadata": {},
   "outputs": [],
   "source": [
    "C = np.array(A)"
   ]
  },
  {
   "cell_type": "code",
   "execution_count": 6,
   "metadata": {},
   "outputs": [
    {
     "data": {
      "text/plain": [
       "array([[4, 5, 6],\n",
       "       [4, 5, 6],\n",
       "       [4, 5, 6]])"
      ]
     },
     "execution_count": 6,
     "metadata": {},
     "output_type": "execute_result"
    }
   ],
   "source": [
    "C"
   ]
  },
  {
   "cell_type": "code",
   "execution_count": 7,
   "metadata": {},
   "outputs": [
    {
     "data": {
      "text/plain": [
       "6"
      ]
     },
     "execution_count": 7,
     "metadata": {},
     "output_type": "execute_result"
    }
   ],
   "source": [
    "type(C)  # A와 숫자는 아주 같지만, numpy array가 된다.\n",
    "C[2][2]\n"
   ]
  },
  {
   "cell_type": "code",
   "execution_count": 8,
   "metadata": {},
   "outputs": [
    {
     "data": {
      "text/plain": [
       "6"
      ]
     },
     "execution_count": 8,
     "metadata": {},
     "output_type": "execute_result"
    }
   ],
   "source": [
    "C[2,2]"
   ]
  },
  {
   "cell_type": "code",
   "execution_count": 9,
   "metadata": {},
   "outputs": [
    {
     "data": {
      "text/plain": [
       "4"
      ]
     },
     "execution_count": 9,
     "metadata": {},
     "output_type": "execute_result"
    }
   ],
   "source": [
    "# 랜덤숫자\n",
    "random.random() # 가운에 random에 뭘 쓰냐에 따라 정할 수 있다.\n",
    "random.randint(1,6) #범위"
   ]
  },
  {
   "cell_type": "code",
   "execution_count": 10,
   "metadata": {},
   "outputs": [],
   "source": [
    "# round(ㅁ)는 ㅁ의 소수자리를 치운다.\n",
    "# round(ㅁ,ㅇ) ㅁ을 유효숫자 ㅇ개만 남긴다."
   ]
  },
  {
   "cell_type": "code",
   "execution_count": null,
   "metadata": {},
   "outputs": [],
   "source": []
  },
  {
   "cell_type": "code",
   "execution_count": 11,
   "metadata": {},
   "outputs": [],
   "source": [
    "# 파일의 데이터를 받는 법\n",
    "# 이름 = np.genfromtxt('파일이름',dtype='str') \n",
    "# str이라는 데이터타입으로 파일이름에 해당하는 txt파일을 numpy로 저장한다.\n",
    "# 그 저장한 넘파이얼레이의 이름은 '이름'이다"
   ]
  },
  {
   "cell_type": "code",
   "execution_count": 12,
   "metadata": {},
   "outputs": [],
   "source": [
    "# #이해 안된거\n",
    "# 1 cat morse.txt\n",
    "# ---\n",
    "# print(morse, type(morse))"
   ]
  },
  {
   "cell_type": "markdown",
   "metadata": {},
   "source": [
    "# np.where을 이용하여  index찾기\n",
    "\n",
    "## A를 찾기\n",
    "alp = 'A' 를 설정하고\n",
    "print(np.where(morse[:,0]==alp)) \n",
    "\n",
    "? morse 저장 형태는?\n",
    "\n",
    "a,모스/b.모스/- - -\n",
    "\n",
    "따라서 모든 행에 대해서( : 라고 쓴다.) 열에서만 찾는다 -> [:,0]\n",
    "\n",
    "그 찾은 결과가 alp='A'인 행을 출력하는 것이다.\n",
    "\n",
    "출력: (array([0]),공백)\n",
    "\n",
    "## 튜플 데이터에 관한 \n",
    "다음의 데이터 구조를 보라 (ㅁ,ㄴ) \n",
    "\n",
    "괄호와 ,로 연결된 것을 튜플이라고 한다.\n",
    "\n",
    "A를 찾기의 출력값은 튜플이다.\n",
    "\n",
    "np.where(morse[:,0]==alp => (array, )이라는 뜻이다.\n",
    "\n",
    "우리는 A의 행 위치인 0만 필요하기 때문에 다음과 같이, 마치 list를 다루는 것 처럼\n",
    "\n",
    "print(np.where(morse[:,0]==alp)[0]) # print 안의 데이터는 넘파이어레이\n",
    "출력: [0] \n",
    "\n",
    "주의!\n",
    "np.where(morse[:,0]==alp)[0] >>> [0]\n",
    "np.where(morse[:,0]==alp)[0][0] >>> 0   *****   \n",
    "결과적으로 위와같은 코드를 쓴다면, \n",
    "기본적인 정수로 인덱스를 추출할 수 있는 것이다.\n",
    "\n",
    "우리가 뭐를 하려고 했는가? 모스부호를 가져오려는 작업을 하려한다.\n",
    "인덱스를 알면\n",
    "morse[인덱스][두번째요소]\n",
    "출력: 모스부호\n",
    "\n",
    "\n"
   ]
  },
  {
   "cell_type": "code",
   "execution_count": 13,
   "metadata": {},
   "outputs": [
    {
     "ename": "NameError",
     "evalue": "name 'morse' is not defined",
     "output_type": "error",
     "traceback": [
      "\u001b[1;31m---------------------------------------------------------------------------\u001b[0m",
      "\u001b[1;31mNameError\u001b[0m                                 Traceback (most recent call last)",
      "\u001b[1;32m<ipython-input-13-f9d670973afe>\u001b[0m in \u001b[0;36m<module>\u001b[1;34m\u001b[0m\n\u001b[0;32m      8\u001b[0m     \u001b[0malp\u001b[0m \u001b[1;33m=\u001b[0m \u001b[0malp\u001b[0m\u001b[1;33m.\u001b[0m\u001b[0mupper\u001b[0m\u001b[1;33m(\u001b[0m\u001b[1;33m)\u001b[0m\u001b[1;33m\u001b[0m\u001b[1;33m\u001b[0m\u001b[0m\n\u001b[0;32m      9\u001b[0m \u001b[1;31m#     upper 대문자 대체\u001b[0m\u001b[1;33m\u001b[0m\u001b[1;33m\u001b[0m\u001b[1;33m\u001b[0m\u001b[0m\n\u001b[1;32m---> 10\u001b[1;33m     \u001b[0malp_i\u001b[0m \u001b[1;33m=\u001b[0m \u001b[0mnp\u001b[0m\u001b[1;33m.\u001b[0m\u001b[0mwhere\u001b[0m\u001b[1;33m(\u001b[0m\u001b[0mmorse\u001b[0m\u001b[1;33m[\u001b[0m\u001b[1;33m:\u001b[0m\u001b[1;33m,\u001b[0m\u001b[1;36m0\u001b[0m\u001b[1;33m]\u001b[0m\u001b[1;33m==\u001b[0m\u001b[0malp\u001b[0m\u001b[1;33m)\u001b[0m\u001b[1;33m[\u001b[0m\u001b[1;36m0\u001b[0m\u001b[1;33m]\u001b[0m\u001b[1;33m[\u001b[0m\u001b[1;36m0\u001b[0m\u001b[1;33m]\u001b[0m\u001b[1;33m\u001b[0m\u001b[1;33m\u001b[0m\u001b[0m\n\u001b[0m\u001b[0;32m     11\u001b[0m     \u001b[0mresult\u001b[0m \u001b[1;33m+=\u001b[0m \u001b[0mmorse\u001b[0m\u001b[1;33m[\u001b[0m\u001b[0malp_i\u001b[0m\u001b[1;33m,\u001b[0m\u001b[1;36m1\u001b[0m\u001b[1;33m]\u001b[0m\u001b[1;33m+\u001b[0m\u001b[1;34m' '\u001b[0m\u001b[1;33m\u001b[0m\u001b[1;33m\u001b[0m\u001b[0m\n",
      "\u001b[1;31mNameError\u001b[0m: name 'morse' is not defined"
     ]
    }
   ],
   "source": [
    "## 단어를 받으면. 공백미포함\n",
    "word = 'apple' \n",
    "# 워드 설정\n",
    "result=''\n",
    "# 최종값의 초기설정\n",
    "for alp in word:\n",
    "#     총 4번 반복, alp라는 변수에 word의 요소들을 하나씩\n",
    "    alp = alp.upper() \n",
    "#     upper 대문자 대체\n",
    "    alp_i = np.where(morse[:,0]==alp)[0][0]\n",
    "    result += morse[alp_i,1]+' '"
   ]
  },
  {
   "cell_type": "code",
   "execution_count": 22,
   "metadata": {},
   "outputs": [
    {
     "ename": "SyntaxError",
     "evalue": "invalid syntax (<ipython-input-22-efce040babfa>, line 2)",
     "output_type": "error",
     "traceback": [
      "\u001b[1;36m  File \u001b[1;32m\"<ipython-input-22-efce040babfa>\"\u001b[1;36m, line \u001b[1;32m2\u001b[0m\n\u001b[1;33m    단어와 단어사이는 공백을 2개 추가한다.\u001b[0m\n\u001b[1;37m        ^\u001b[0m\n\u001b[1;31mSyntaxError\u001b[0m\u001b[1;31m:\u001b[0m invalid syntax\n"
     ]
    }
   ],
   "source": [
    "## 단어를 받으면. 공백포함\n",
    "단어와 단어사이는 공백을 2개 추가한다.\n",
    "\n",
    "word = 'i love u' \n",
    "# 워드 설정\n",
    "result=''\n",
    "# 최종값의 초기설정\n",
    "for alp in word:\n",
    "    if alp = ' ': # 달라진 부분이다.\n",
    "        result += '  '\n",
    "#     총 4번 반복, alp라는 변수에 word의 요소들을 하나씩\n",
    "    else: # 나머지 경우\n",
    "        alp = alp.upper() \n",
    "    #     upper 대문자 대체\n",
    "        alp_i = np.where(morse[:,0]==alp)[0][0]\n",
    "        result += morse[alp_i,1]+' '"
   ]
  },
  {
   "cell_type": "markdown",
   "metadata": {},
   "source": [
    "# 확률에 대하여, 파이 구하기 예제"
   ]
  },
  {
   "cell_type": "code",
   "execution_count": 23,
   "metadata": {},
   "outputs": [
    {
     "data": {
      "text/plain": [
       "0.9623185112574828"
      ]
     },
     "execution_count": 23,
     "metadata": {},
     "output_type": "execute_result"
    }
   ],
   "source": [
    "import random\n",
    "# 랜덤 사용\n",
    "\n",
    "random.random()\n",
    "np.random.random()\n",
    "# 랜덤의 여러 방법, np 추천함"
   ]
  },
  {
   "cell_type": "code",
   "execution_count": 24,
   "metadata": {},
   "outputs": [
    {
     "ename": "SyntaxError",
     "evalue": "invalid syntax (<ipython-input-24-a5371f3afbef>, line 2)",
     "output_type": "error",
     "traceback": [
      "\u001b[1;36m  File \u001b[1;32m\"<ipython-input-24-a5371f3afbef>\"\u001b[1;36m, line \u001b[1;32m2\u001b[0m\n\u001b[1;33m    np.random.샘플-가령random-(튜플 형식의 사이즈)\u001b[0m\n\u001b[1;37m                              ^\u001b[0m\n\u001b[1;31mSyntaxError\u001b[0m\u001b[1;31m:\u001b[0m invalid syntax\n"
     ]
    }
   ],
   "source": [
    "# 넘파이를 이용한 랜덤 신택스\n",
    "np.random.샘플-가령random-(튜플 형식의 사이즈)\n",
    "*튜플 형식의 사이즈 = (N,2) # N개 2개 // N by 2 Matrix\n"
   ]
  },
  {
   "cell_type": "code",
   "execution_count": 25,
   "metadata": {},
   "outputs": [
    {
     "ename": "SyntaxError",
     "evalue": "invalid syntax (<ipython-input-25-434c9b9954aa>, line 8)",
     "output_type": "error",
     "traceback": [
      "\u001b[1;36m  File \u001b[1;32m\"<ipython-input-25-434c9b9954aa>\"\u001b[1;36m, line \u001b[1;32m8\u001b[0m\n\u001b[1;33m    x와 y를 저장했다.\u001b[0m\n\u001b[1;37m       ^\u001b[0m\n\u001b[1;31mSyntaxError\u001b[0m\u001b[1;31m:\u001b[0m invalid syntax\n"
     ]
    }
   ],
   "source": [
    "N = 10 # 아래 코드의 샘플이 random 이기 때문에 자동으로 범위는 [0,1]\n",
    "x=[]\n",
    "y=[]\n",
    "\n",
    "M = np.random.random((N,2))\n",
    "x=M[:,0] # 행벡터로 저장한다고 생각하라\n",
    "y=M[:,1] # 마찬가지 \n",
    "x와 y를 저장했다."
   ]
  },
  {
   "cell_type": "code",
   "execution_count": 26,
   "metadata": {},
   "outputs": [
    {
     "ename": "NameError",
     "evalue": "name 'M' is not defined",
     "output_type": "error",
     "traceback": [
      "\u001b[1;31m---------------------------------------------------------------------------\u001b[0m",
      "\u001b[1;31mNameError\u001b[0m                                 Traceback (most recent call last)",
      "\u001b[1;32m<ipython-input-26-f3e8788da83b>\u001b[0m in \u001b[0;36m<module>\u001b[1;34m\u001b[0m\n\u001b[1;32m----> 1\u001b[1;33m \u001b[0mM\u001b[0m\u001b[1;33m\u001b[0m\u001b[1;33m\u001b[0m\u001b[0m\n\u001b[0m",
      "\u001b[1;31mNameError\u001b[0m: name 'M' is not defined"
     ]
    }
   ],
   "source": [
    "M"
   ]
  },
  {
   "cell_type": "code",
   "execution_count": 27,
   "metadata": {},
   "outputs": [
    {
     "data": {
      "image/png": "[encoded data removed]",
      "text/plain": [
       "<Figure size 432x288 with 1 Axes>"
      ]
     },
     "metadata": {
      "needs_background": "light"
     },
     "output_type": "display_data"
    }
   ],
   "source": [
    "# 좌표에 표시하는 방법\n",
    "import matplotlib.pyplot as plt\n",
    "x1=[1,2,3]\n",
    "y1=[1,4,5]\n",
    "\n",
    "#plt.plot(x1,y1) # 선을 이어준다\n",
    "plt.scatter(x1,y1) # 점을 찍을 수 있다.\n",
    "plt.show()"
   ]
  },
  {
   "cell_type": "code",
   "execution_count": 28,
   "metadata": {},
   "outputs": [
    {
     "ename": "NameError",
     "evalue": "name 'x' is not defined",
     "output_type": "error",
     "traceback": [
      "\u001b[1;31m---------------------------------------------------------------------------\u001b[0m",
      "\u001b[1;31mNameError\u001b[0m                                 Traceback (most recent call last)",
      "\u001b[1;32m<ipython-input-28-c8a4004f36a4>\u001b[0m in \u001b[0;36m<module>\u001b[1;34m\u001b[0m\n\u001b[0;32m      1\u001b[0m \u001b[1;31m# M 을 찍어보자\u001b[0m\u001b[1;33m\u001b[0m\u001b[1;33m\u001b[0m\u001b[1;33m\u001b[0m\u001b[0m\n\u001b[0;32m      2\u001b[0m \u001b[1;33m\u001b[0m\u001b[0m\n\u001b[1;32m----> 3\u001b[1;33m \u001b[0mplt\u001b[0m\u001b[1;33m.\u001b[0m\u001b[0mscatter\u001b[0m\u001b[1;33m(\u001b[0m\u001b[0mx\u001b[0m\u001b[1;33m,\u001b[0m\u001b[0my\u001b[0m\u001b[1;33m)\u001b[0m\u001b[1;33m\u001b[0m\u001b[1;33m\u001b[0m\u001b[0m\n\u001b[0m\u001b[0;32m      4\u001b[0m \u001b[0mplt\u001b[0m\u001b[1;33m.\u001b[0m\u001b[0mshow\u001b[0m\u001b[1;33m(\u001b[0m\u001b[1;33m)\u001b[0m\u001b[1;33m\u001b[0m\u001b[1;33m\u001b[0m\u001b[0m\n\u001b[0;32m      5\u001b[0m \u001b[1;31m#변경점은? np.random으로 시작해서, x,y에 데이터'들'을 저장했다.\u001b[0m\u001b[1;33m\u001b[0m\u001b[1;33m\u001b[0m\u001b[1;33m\u001b[0m\u001b[0m\n",
      "\u001b[1;31mNameError\u001b[0m: name 'x' is not defined"
     ]
    }
   ],
   "source": [
    "# M 을 찍어보자\n",
    "\n",
    "plt.scatter(x,y) \n",
    "plt.show()\n",
    "#변경점은? np.random으로 시작해서, x,y에 데이터'들'을 저장했다."
   ]
  },
  {
   "cell_type": "code",
   "execution_count": 29,
   "metadata": {},
   "outputs": [
    {
     "ename": "NameError",
     "evalue": "name 'M' is not defined",
     "output_type": "error",
     "traceback": [
      "\u001b[1;31m---------------------------------------------------------------------------\u001b[0m",
      "\u001b[1;31mNameError\u001b[0m                                 Traceback (most recent call last)",
      "\u001b[1;32m<ipython-input-29-928552096340>\u001b[0m in \u001b[0;36m<module>\u001b[1;34m\u001b[0m\n\u001b[1;32m----> 1\u001b[1;33m \u001b[0mM\u001b[0m\u001b[1;33m[\u001b[0m\u001b[1;36m1\u001b[0m\u001b[1;33m]\u001b[0m\u001b[1;33m\u001b[0m\u001b[1;33m\u001b[0m\u001b[0m\n\u001b[0m",
      "\u001b[1;31mNameError\u001b[0m: name 'M' is not defined"
     ]
    }
   ],
   "source": [
    "M[1]"
   ]
  },
  {
   "cell_type": "code",
   "execution_count": 35,
   "metadata": {},
   "outputs": [
    {
     "data": {
      "image/png": "[encoded data removed]",
      "text/plain": [
       "<Figure size 432x288 with 1 Axes>"
      ]
     },
     "metadata": {
      "needs_background": "light"
     },
     "output_type": "display_data"
    }
   ],
   "source": [
    "#코드 정리\n",
    "N = 10 \n",
    "x=[]\n",
    "y=[]\n",
    "\n",
    "M = np.random.random((N,2))\n",
    "x=M[:,0] \n",
    "y=M[:,1]\n",
    "\n",
    "#그림 사전 작업\n",
    "fig=plt.figure()\n",
    "ax = fig.add_subplot(111)\n",
    "ax.set_aspect('equal',adjustable='box')\n",
    "\n",
    "draw_circle = plt.Circle((0., 0.), 1, fill=False)\n",
    "ax.add_artist(draw_circle)\n",
    "\n",
    "plt.scatter(x,y,s=50,c='r') #s는 사이즈, c는 컬러 \n",
    "plt.show()\n",
    "\n"
   ]
  },
  {
   "cell_type": "code",
   "execution_count": 36,
   "metadata": {},
   "outputs": [
    {
     "name": "stdout",
     "output_type": "stream",
     "text": [
      "0.9\n"
     ]
    }
   ],
   "source": [
    "# 내 코드\n",
    "i = 0\n",
    "count = 0\n",
    "while i < N:\n",
    "    xt = x[i]\n",
    "    yt = y[i]\n",
    "    if (xt**2 +yt**2 ) < 1:\n",
    "        count += 1\n",
    "#     print(i)\n",
    "    i+= 1\n",
    "print(count/N)"
   ]
  },
  {
   "cell_type": "code",
   "execution_count": 37,
   "metadata": {},
   "outputs": [
    {
     "ename": "SyntaxError",
     "evalue": "invalid syntax (<ipython-input-37-e6ad00ae290e>, line 28)",
     "output_type": "error",
     "traceback": [
      "\u001b[1;36m  File \u001b[1;32m\"<ipython-input-37-e6ad00ae290e>\"\u001b[1;36m, line \u001b[1;32m28\u001b[0m\n\u001b[1;33m    >>>(X,2) #이렇게 튜플형태로 출력됨\u001b[0m\n\u001b[1;37m    ^\u001b[0m\n\u001b[1;31mSyntaxError\u001b[0m\u001b[1;31m:\u001b[0m invalid syntax\n"
     ]
    }
   ],
   "source": [
    "# 조교님 예시\n",
    "N = 10\n",
    "condition = x*x + y*y < 1 # 조건을 설정하고, 행끼리 곱도 가능함! \n",
    "\n",
    "# print(condition)\n",
    "# >>>\n",
    "# [False  True False  True False  True  True False False  True  True  True\n",
    "#  False  True  True False  True  True  True False  True  True False  True\n",
    "#   True False  True False  True False  True  True  True  True  True  True\n",
    "#  False  True  True  True  True  True False  True  True False  True False\n",
    "#   True  True  True  True False  True False  True  True  True False  True\n",
    "#  False  True  True  True False  True  True False  True  True  True  True\n",
    "#   True  True False  True  True  True  True  True  True  True  True False\n",
    "#   True  True False  True  True  True False  True  True  True  True  True\n",
    "#   True  True  True  True]\n",
    "# 콘디션의 주어진 조건에 따라 참과 거짓을 출력\n",
    "point_in = np.compress(condition , M , axis = 0)\n",
    "point_out = np.compress(~condition , M , axis = 0) # ~ is NOT\n",
    "\n",
    "# 위는, 점으로 간주할 수 있다.\n",
    "# 내부의 개수를 세는 방법은?\n",
    "print(sum(condition))\n",
    "print(point_in.shape)\n",
    "\n",
    "# 외부의 개수를 세는 방법은?\n",
    "print(sum(~condition))\n",
    "print(point_out.shape)\n",
    ">>>(X,2) #이렇게 튜플형태로 출력됨\n",
    "#튜플에 주의하라"
   ]
  },
  {
   "cell_type": "code",
   "execution_count": 38,
   "metadata": {},
   "outputs": [
    {
     "ename": "SyntaxError",
     "evalue": "invalid syntax (<ipython-input-38-9a488f139483>, line 1)",
     "output_type": "error",
     "traceback": [
      "\u001b[1;36m  File \u001b[1;32m\"<ipython-input-38-9a488f139483>\"\u001b[1;36m, line \u001b[1;32m1\u001b[0m\n\u001b[1;33m    (4) 전체 점 갯수 N을 500, 1000, 1500, ...으로 늘려가면서 (3)의 비율 값을 구해보자.\u001b[0m\n\u001b[1;37m        ^\u001b[0m\n\u001b[1;31mSyntaxError\u001b[0m\u001b[1;31m:\u001b[0m invalid syntax\n"
     ]
    }
   ],
   "source": [
    "(4) 전체 점 갯수 N을 500, 1000, 1500, ...으로 늘려가면서 (3)의 비율 값을 구해보자.\n",
    "\n"
   ]
  },
  {
   "cell_type": "code",
   "execution_count": null,
   "metadata": {},
   "outputs": [],
   "source": []
  },
  {
   "cell_type": "code",
   "execution_count": null,
   "metadata": {},
   "outputs": [],
   "source": []
  },
  {
   "cell_type": "code",
   "execution_count": 39,
   "metadata": {},
   "outputs": [
    {
     "data": {
      "text/plain": [
       "array([0.82081085, 0.77266674, 0.97519943, 0.88736568, 0.64000204,\n",
       "       0.71130301, 0.9102672 , 0.02225524, 0.67380542, 0.15399083])"
      ]
     },
     "execution_count": 39,
     "metadata": {},
     "output_type": "execute_result"
    }
   ],
   "source": [
    "x"
   ]
  },
  {
   "cell_type": "markdown",
   "metadata": {},
   "source": [
    "# numpy 정리\n",
    "https://numpy.org/doc/stable/reference/arrays.ndarray.html"
   ]
  },
  {
   "cell_type": "code",
   "execution_count": 47,
   "metadata": {},
   "outputs": [
    {
     "ename": "NameError",
     "evalue": "name '리스트들' is not defined",
     "output_type": "error",
     "traceback": [
      "\u001b[1;31m---------------------------------------------------------------------------\u001b[0m",
      "\u001b[1;31mNameError\u001b[0m                                 Traceback (most recent call last)",
      "\u001b[1;32m<ipython-input-47-bc0756f150cc>\u001b[0m in \u001b[0;36m<module>\u001b[1;34m\u001b[0m\n\u001b[0;32m      1\u001b[0m \u001b[1;31m# 리스트를 nd어레이로\u001b[0m\u001b[1;33m\u001b[0m\u001b[1;33m\u001b[0m\u001b[1;33m\u001b[0m\u001b[0m\n\u001b[1;32m----> 2\u001b[1;33m \u001b[0mnp\u001b[0m\u001b[1;33m.\u001b[0m\u001b[0marray\u001b[0m\u001b[1;33m(\u001b[0m\u001b[1;33m[\u001b[0m\u001b[0m리스트들\u001b[0m\u001b[1;33m]\u001b[0m\u001b[1;33m)\u001b[0m\u001b[1;33m\u001b[0m\u001b[1;33m\u001b[0m\u001b[0m\n\u001b[0m\u001b[0;32m      3\u001b[0m \u001b[1;33m\u001b[0m\u001b[0m\n\u001b[0;32m      4\u001b[0m \u001b[1;31m#slicing 리스트의 확장 + condition\u001b[0m\u001b[1;33m\u001b[0m\u001b[1;33m\u001b[0m\u001b[1;33m\u001b[0m\u001b[0m\n\u001b[0;32m      5\u001b[0m \u001b[0mA\u001b[0m\u001b[1;33m[\u001b[0m\u001b[1;36m1\u001b[0m\u001b[1;33m,\u001b[0m\u001b[1;36m2\u001b[0m\u001b[1;33m:\u001b[0m\u001b[1;36m4\u001b[0m\u001b[1;33m]\u001b[0m \u001b[1;31m# 1번 리스트의 2~3 요소\u001b[0m\u001b[1;33m\u001b[0m\u001b[1;33m\u001b[0m\u001b[0m\n",
      "\u001b[1;31mNameError\u001b[0m: name '리스트들' is not defined"
     ]
    }
   ],
   "source": [
    "# 리스트를 nd어레이로\n",
    "np.array([리스트들])\n",
    "\n",
    "#slicing 리스트의 확장 + condition\n",
    "A[1,2:4] # 1번 리스트의 2~3 요소\n",
    "\n",
    "condition = np.array([True,False,True,False,True])\n",
    "A[1,condition] #1번에서, 조건에 만족하는 요소만 슬라이싱\n",
    "\n",
    "# 주의! loop\n",
    "np는 벡터화 연산에 유리\n",
    "각 요소에 더해주는 등의 계산은 list가 빠르다\n",
    "\n",
    "a=np.arange(초기값,끝값+1)"
   ]
  },
  {
   "cell_type": "code",
   "execution_count": 56,
   "metadata": {
    "scrolled": true
   },
   "outputs": [
    {
     "name": "stdout",
     "output_type": "stream",
     "text": [
      "[False False False False False False False False False False False False\n",
      " False False False False False False False False False  True  True  True\n",
      "  True  True  True  True  True  True  True  True  True  True  True  True\n",
      "  True  True  True  True  True  True  True  True  True  True  True  True\n",
      "  True  True  True  True  True  True  True False False False False False\n",
      " False False False False False False False False False False False False\n",
      " False False False False False False False False False False False False\n",
      " False False False False False False False False False False False False\n",
      " False False False False]\n",
      "[0 0 0 0 0 0 0 0 0 0 0 0 0 0 0 0 0 0 0 0 0 2 2 2 2 2 2 2 2 2 2 2 2 2 2 2 2\n",
      " 2 2 2 2 2 2 2 2 2 2 2 2 2 2 2 2 2 2 0 0 0 0 0 0 0 0 0 0 0 0 0 0 0 0 0 0 0\n",
      " 0 0 0 0 0 0 0 0 0 0 0 0 0 0 0 0 0 0 0 0 0 0 0 0 0 0]\n"
     ]
    }
   ],
   "source": [
    "# 조건에 따라 불값출력\n",
    "\n",
    "A=np.arange(0,99+1)\n",
    "A\n",
    "\n",
    "b=(A>20)*(A<55) # numpy의 장점\n",
    "print(b)\n",
    "\n",
    "B=2*b\n",
    "print(B)\n",
    "\n",
    "# np.logical_and(ㅁ,ㅁ)"
   ]
  },
  {
   "cell_type": "code",
   "execution_count": 60,
   "metadata": {},
   "outputs": [
    {
     "data": {
      "text/plain": [
       "array([ True, False, False,  True, False, False,  True, False, False,\n",
       "        True, False, False,  True, False, False,  True, False, False,\n",
       "        True, False, False,  True, False, False,  True, False, False,\n",
       "        True, False, False,  True, False, False,  True, False, False,\n",
       "        True, False, False,  True, False, False,  True, False, False,\n",
       "        True, False, False,  True, False, False,  True, False, False,\n",
       "        True, False, False,  True, False, False,  True, False, False,\n",
       "        True, False, False,  True, False, False,  True, False, False,\n",
       "        True, False, False,  True, False, False,  True, False, False,\n",
       "        True, False, False,  True, False, False,  True, False, False,\n",
       "        True, False, False,  True, False, False,  True, False, False,\n",
       "        True])"
      ]
     },
     "execution_count": 60,
     "metadata": {},
     "output_type": "execute_result"
    }
   ],
   "source": [
    "condition = (A%3==0)\n",
    "\n",
    "\n",
    "B[condition] *= A[condition] # B에서 condition에 참이 애들은 A에서도 조건에 맞는 친구를 B에 곱한다"
   ]
  },
  {
   "cell_type": "code",
   "execution_count": 61,
   "metadata": {},
   "outputs": [
    {
     "ename": "SyntaxError",
     "evalue": "unexpected EOF while parsing (<ipython-input-61-f1a389edb278>, line 2)",
     "output_type": "error",
     "traceback": [
      "\u001b[1;36m  File \u001b[1;32m\"<ipython-input-61-f1a389edb278>\"\u001b[1;36m, line \u001b[1;32m2\u001b[0m\n\u001b[1;33m    np.trapz(y=result[1],x=result[0] # y,x\u001b[0m\n\u001b[1;37m                                           ^\u001b[0m\n\u001b[1;31mSyntaxError\u001b[0m\u001b[1;31m:\u001b[0m unexpected EOF while parsing\n"
     ]
    }
   ],
   "source": [
    "# numpy.trapz 에 대해서/ 적분을 하는법... +sympy도 가능하다\n",
    "np.trapz(y=result[1],x=result[0] # y,x "
   ]
  },
  {
   "cell_type": "code",
   "execution_count": 63,
   "metadata": {},
   "outputs": [
    {
     "ename": "IndexError",
     "evalue": "string index out of range",
     "output_type": "error",
     "traceback": [
      "\u001b[1;31m---------------------------------------------------------------------------\u001b[0m",
      "\u001b[1;31mIndexError\u001b[0m                                Traceback (most recent call last)",
      "\u001b[1;32m<ipython-input-63-51b3e84208fe>\u001b[0m in \u001b[0;36m<module>\u001b[1;34m\u001b[0m\n\u001b[0;32m      3\u001b[0m \u001b[1;31m# 필요한 것: 조건, 결과값 저장\u001b[0m\u001b[1;33m\u001b[0m\u001b[1;33m\u001b[0m\u001b[1;33m\u001b[0m\u001b[0m\n\u001b[0;32m      4\u001b[0m \u001b[1;33m\u001b[0m\u001b[0m\n\u001b[1;32m----> 5\u001b[1;33m \u001b[0mcondition\u001b[0m \u001b[1;33m=\u001b[0m \u001b[1;33m(\u001b[0m\u001b[0mresult\u001b[0m\u001b[1;33m[\u001b[0m\u001b[1;36m0\u001b[0m\u001b[1;33m]\u001b[0m\u001b[1;33m>\u001b[0m\u001b[1;36m5\u001b[0m\u001b[1;33m)\u001b[0m\u001b[1;33m*\u001b[0m\u001b[1;33m(\u001b[0m\u001b[0mresult\u001b[0m\u001b[1;33m[\u001b[0m\u001b[1;36m0\u001b[0m\u001b[1;33m]\u001b[0m\u001b[1;33m<\u001b[0m\u001b[1;36m10\u001b[0m\u001b[1;33m)\u001b[0m\u001b[1;33m\u001b[0m\u001b[1;33m\u001b[0m\u001b[0m\n\u001b[0m",
      "\u001b[1;31mIndexError\u001b[0m: string index out of range"
     ]
    }
   ],
   "source": [
    "# 어떤 특정한 조건에서만 적분하고 싶다\n",
    "# compress를 이용하여 따로 추출하여 적분가능\n",
    "# 필요한 것: 조건, 결과값 저장\n",
    "\n",
    "condition = (result[0]>5)*(result[0]<10)\n",
    "저장=np.compress(조건,result,axis=?)  \n",
    "# result라는 array를 조건에 따라서 추출하는데, 해당 배열은 2차원이기 때문에 axis지정\n",
    "# 전치하였다면 1, 대로 하였다면 0*****\n",
    "# 데이터구조\n",
    "# ㅁㅁ\n",
    "# ㅁㅁ\n",
    "# ㅁㅁ\n",
    "# ㅁㅁ\n",
    "# ㅁㅁ\n",
    "# ㅁㅁ\n",
    "# ㅁㅁ"
   ]
  },
  {
   "cell_type": "code",
   "execution_count": null,
   "metadata": {},
   "outputs": [],
   "source": [
    "#파일출력\n",
    "np.savetxt(\"이름\",행렬)"
   ]
  },
  {
   "cell_type": "code",
   "execution_count": null,
   "metadata": {},
   "outputs": [],
   "source": [
    "# np.sinspace(ㅁ,ㄴ,ㅇ) ㄴ을 ㅁ부터 ㅇ등분"
   ]
  }
 ],
 "metadata": {
  "kernelspec": {
   "display_name": "Python 3",
   "language": "python",
   "name": "python3"
  },
  "language_info": {
   "codemirror_mode": {
    "name": "ipython",
    "version": 3
   },
   "file_extension": ".py",
   "mimetype": "text/x-python",
   "name": "python",
   "nbconvert_exporter": "python",
   "pygments_lexer": "ipython3",
   "version": "3.8.5"
  }
 },
 "nbformat": 4,
 "nbformat_minor": 4
}
