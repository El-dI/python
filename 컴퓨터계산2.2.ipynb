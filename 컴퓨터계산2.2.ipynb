{
 "cells": [
  {
   "cell_type": "markdown",
   "metadata": {},
   "source": [
    "# 1주차 선형대수 응용\n",
    "numpy를 통한 행렬계산"
   ]
  },
  {
   "cell_type": "code",
   "execution_count": 1,
   "metadata": {},
   "outputs": [],
   "source": [
    "import numpy as np"
   ]
  },
  {
   "cell_type": "code",
   "execution_count": 9,
   "metadata": {},
   "outputs": [
    {
     "data": {
      "text/plain": [
       "array([10, 12])"
      ]
     },
     "execution_count": 9,
     "metadata": {},
     "output_type": "execute_result"
    }
   ],
   "source": [
    "x=np.array([5,6])\n",
    "x+x"
   ]
  },
  {
   "cell_type": "code",
   "execution_count": 10,
   "metadata": {},
   "outputs": [
    {
     "data": {
      "text/plain": [
       "array([[ 6,  8],\n",
       "       [ 8, 10]])"
      ]
     },
     "execution_count": 10,
     "metadata": {},
     "output_type": "execute_result"
    }
   ],
   "source": [
    "A=np.array([[1,2],[3,4]])\n",
    "A+x"
   ]
  },
  {
   "cell_type": "markdown",
   "metadata": {},
   "source": [
    "ㄴ각각에 대해 더한다."
   ]
  },
  {
   "cell_type": "code",
   "execution_count": 11,
   "metadata": {},
   "outputs": [
    {
     "ename": "SyntaxError",
     "evalue": "unmatched ')' (<ipython-input-11-e1d279994ce3>, line 1)",
     "output_type": "error",
     "traceback": [
      "\u001b[1;36m  File \u001b[1;32m\"<ipython-input-11-e1d279994ce3>\"\u001b[1;36m, line \u001b[1;32m1\u001b[0m\n\u001b[1;33m    예시)\u001b[0m\n\u001b[1;37m      ^\u001b[0m\n\u001b[1;31mSyntaxError\u001b[0m\u001b[1;31m:\u001b[0m unmatched ')'\n"
     ]
    }
   ],
   "source": [
    "# 예시)\n"
   ]
  },
  {
   "cell_type": "code",
   "execution_count": 29,
   "metadata": {},
   "outputs": [],
   "source": [
    "x=np.array([1,2])\n",
    "A=np.array([[2,2],\n",
    "            [2,2]])\n"
   ]
  },
  {
   "cell_type": "code",
   "execution_count": 30,
   "metadata": {},
   "outputs": [
    {
     "data": {
      "text/plain": [
       "array([6, 6])"
      ]
     },
     "execution_count": 30,
     "metadata": {},
     "output_type": "execute_result"
    }
   ],
   "source": [
    "np.dot(x,A)"
   ]
  },
  {
   "cell_type": "code",
   "execution_count": 31,
   "metadata": {},
   "outputs": [
    {
     "data": {
      "text/plain": [
       "array([6, 6])"
      ]
     },
     "execution_count": 31,
     "metadata": {},
     "output_type": "execute_result"
    }
   ],
   "source": [
    "np.dot(A,x)"
   ]
  },
  {
   "cell_type": "code",
   "execution_count": 17,
   "metadata": {},
   "outputs": [
    {
     "data": {
      "text/plain": [
       "array([[2, 4],\n",
       "       [2, 4]])"
      ]
     },
     "execution_count": 17,
     "metadata": {},
     "output_type": "execute_result"
    }
   ],
   "source": [
    "A*x"
   ]
  },
  {
   "cell_type": "code",
   "execution_count": 20,
   "metadata": {},
   "outputs": [
    {
     "data": {
      "text/plain": [
       "array([6, 6])"
      ]
     },
     "execution_count": 20,
     "metadata": {},
     "output_type": "execute_result"
    }
   ],
   "source": [
    "np.dot(A,x)"
   ]
  },
  {
   "cell_type": "code",
   "execution_count": 21,
   "metadata": {},
   "outputs": [
    {
     "data": {
      "text/plain": [
       "array([6, 6])"
      ]
     },
     "execution_count": 21,
     "metadata": {},
     "output_type": "execute_result"
    }
   ],
   "source": [
    "np.dot(x,A)"
   ]
  },
  {
   "cell_type": "markdown",
   "metadata": {},
   "source": [
    "ㄴ내적, Dot product"
   ]
  },
  {
   "cell_type": "code",
   "execution_count": 23,
   "metadata": {},
   "outputs": [],
   "source": [
    "A=np.array([[1,2],  \n",
    "            [3,4]])\n",
    "B=np.array([[5,6],\n",
    "            [7,8]])"
   ]
  },
  {
   "cell_type": "code",
   "execution_count": 24,
   "metadata": {},
   "outputs": [
    {
     "data": {
      "text/plain": [
       "array([[23, 34],\n",
       "       [31, 46]])"
      ]
     },
     "execution_count": 24,
     "metadata": {},
     "output_type": "execute_result"
    }
   ],
   "source": [
    "np.dot(B,A)"
   ]
  },
  {
   "cell_type": "code",
   "execution_count": 25,
   "metadata": {},
   "outputs": [
    {
     "data": {
      "text/plain": [
       "array([[19, 22],\n",
       "       [43, 50]])"
      ]
     },
     "execution_count": 25,
     "metadata": {},
     "output_type": "execute_result"
    }
   ],
   "source": [
    "np.dot(A,B)\n",
    "# [1*5+2*7,1*6+2*8],\n",
    "# [3*5+4*7,3*6+4*8]\n",
    "\n",
    "# [A11*B11+A12*B21,A11*B11+A12*B21],\n",
    "# [A21*B11+A22*B21,A21*B12+A22*B22]\n",
    "\n"
   ]
  },
  {
   "cell_type": "markdown",
   "metadata": {},
   "source": [
    "A11 A12\n",
    "A21 A22\n",
    "\n",
    "B11 B12\n",
    "B21 B22"
   ]
  },
  {
   "cell_type": "code",
   "execution_count": 33,
   "metadata": {},
   "outputs": [],
   "source": [
    "A=np.array([[2,4],\n",
    "            [6,8]])\n",
    "x=np.array([1,2])"
   ]
  },
  {
   "cell_type": "code",
   "execution_count": 35,
   "metadata": {},
   "outputs": [
    {
     "name": "stdout",
     "output_type": "stream",
     "text": [
      "[[ 2  8]\n",
      " [ 6 16]]\n",
      "[10 22]\n"
     ]
    }
   ],
   "source": [
    "print(A*x)\n",
    "print(np.dot(A,x))"
   ]
  },
  {
   "cell_type": "markdown",
   "metadata": {},
   "source": [
    "ㄴ\n",
    "(2 4)(1)//\n",
    "(6 8)(2)"
   ]
  },
  {
   "cell_type": "markdown",
   "metadata": {},
   "source": [
    "연립방정식"
   ]
  },
  {
   "cell_type": "markdown",
   "metadata": {},
   "source": [
    "Ax=b\n",
    "A:주어진 정보\n",
    "b:조건\n",
    "x:변수행렬\n",
    "\n",
    "x: np.linalg.solve(A,b)"
   ]
  },
  {
   "cell_type": "code",
   "execution_count": 38,
   "metadata": {},
   "outputs": [
    {
     "data": {
      "text/plain": [
       "array([[10.],\n",
       "       [26.]])"
      ]
     },
     "execution_count": 38,
     "metadata": {},
     "output_type": "execute_result"
    }
   ],
   "source": [
    "# 토끼와 닭\n",
    "A=np.array([[1,1],\n",
    "            [4,2]])\n",
    "b=np.array([[36],\n",
    "            [92]])\n",
    "np.linalg.solve(A,b)"
   ]
  },
  {
   "cell_type": "code",
   "execution_count": 128,
   "metadata": {},
   "outputs": [
    {
     "data": {
      "text/plain": [
       "array([ 3.,  6.,  9., 12., 15., 18., 21., 24., 27., 30., 33., 36., 39.,\n",
       "       42., 45., 48., 51., 54., 57.,  3.,  6.,  9., 12., 15., 18., 21.,\n",
       "       24., 27., 30., 33., 36., 39., 42., 45., 48., 51., 54., 57.,  3.,\n",
       "        6.,  9., 12., 15., 18., 21., 24., 27., 30., 33., 36., 39., 42.,\n",
       "       45., 48., 51., 54., 57.,  3.,  6.,  9., 12., 15., 18., 21., 24.,\n",
       "       27., 30., 33., 36., 39., 42., 45., 48., 51., 54., 57.,  3.,  6.,\n",
       "        9., 12., 15., 18., 21., 24., 27., 30., 33., 36., 39., 42., 45.,\n",
       "       48., 51., 54., 57.])"
      ]
     },
     "execution_count": 128,
     "metadata": {},
     "output_type": "execute_result"
    }
   ],
   "source": [
    "# 양 100마리\n",
    "# 10000000원\n",
    "# 수 200000\n",
    "# 암 100000\n",
    "# 새끼 100000/3\n",
    "\n",
    "# A=np.array([[1,1,ㅁ],\n",
    "#             [4,2,ㅁ]],\n",
    "#             [ㅁ,ㅁ,ㅁ])\n",
    "# b=np.array([[36],\n",
    "#             [92],\n",
    "#             [ㅁ]])\n",
    "# np.linalg.solve(A,b)\n",
    "\n",
    "# result=np.array([])\n",
    "# for i in range(1,300+1):\n",
    "# #     print(i)\n",
    "#     if i%3==0:\n",
    "#         A=np.array([[200000,100000,100000/3],\n",
    "#                     [1,1,1],\n",
    "#                     [0,0,1]])\n",
    "#         b=np.array([[10000000,\n",
    "#                      100,\n",
    "#                      i]]).T\n",
    "#         x=np.linalg.solve(A,b)\n",
    "#         print(x)\n",
    "# #         if type[x[0]]==int:\n",
    "\n",
    "i=0\n",
    "x=np.array([1,1,1])\n",
    "while x[0]*x[1]*x[2]!=0: \n",
    "    i+=1\n",
    "#     print(i)\n",
    "    if i%3==0:\n",
    "        A=np.array([[200000,100000,100000/3],\n",
    "                    [1,1,1],\n",
    "                    [0,0,1]])\n",
    "        b=np.array([[10000000,\n",
    "                     100,\n",
    "                     i]]).T\n",
    "        x=np.linalg.solve(A,b)\n",
    "#         print(x)\n",
    "        \n",
    "        if x[0]*x[1]*x[2]!=0:\n",
    "            result=np.append(result,x[2])\n",
    "result"
   ]
  },
  {
   "cell_type": "code",
   "execution_count": 86,
   "metadata": {},
   "outputs": [
    {
     "name": "stdout",
     "output_type": "stream",
     "text": [
      "False\n"
     ]
    }
   ],
   "source": [
    "print(x[0]>0&x[1]>0&x[2]>0)"
   ]
  },
  {
   "cell_type": "code",
   "execution_count": 94,
   "metadata": {},
   "outputs": [
    {
     "data": {
      "text/plain": [
       "array([ True])"
      ]
     },
     "execution_count": 94,
     "metadata": {},
     "output_type": "execute_result"
    }
   ],
   "source": [
    "x[0]>=1 \n"
   ]
  },
  {
   "cell_type": "code",
   "execution_count": 111,
   "metadata": {},
   "outputs": [
    {
     "name": "stdout",
     "output_type": "stream",
     "text": [
      "1\n",
      "2\n",
      "3\n",
      "4\n",
      "5\n",
      "6\n",
      "7\n",
      "8\n",
      "9\n"
     ]
    }
   ],
   "source": [
    "i=1\n",
    "while i !=10:\n",
    "    print(i)\n",
    "    i +=1"
   ]
  },
  {
   "cell_type": "code",
   "execution_count": null,
   "metadata": {},
   "outputs": [],
   "source": []
  }
 ],
 "metadata": {
  "kernelspec": {
   "display_name": "Python 3",
   "language": "python",
   "name": "python3"
  },
  "language_info": {
   "codemirror_mode": {
    "name": "ipython",
    "version": 3
   },
   "file_extension": ".py",
   "mimetype": "text/x-python",
   "name": "python",
   "nbconvert_exporter": "python",
   "pygments_lexer": "ipython3",
   "version": "3.8.5"
  }
 },
 "nbformat": 4,
 "nbformat_minor": 4
}
